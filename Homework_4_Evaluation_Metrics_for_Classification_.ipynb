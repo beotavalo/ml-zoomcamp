{
  "nbformat": 4,
  "nbformat_minor": 0,
  "metadata": {
    "colab": {
      "provenance": [],
      "authorship_tag": "ABX9TyMIZ24Op2yzWF859+Ivjwf2",
      "include_colab_link": true
    },
    "kernelspec": {
      "name": "python3",
      "display_name": "Python 3"
    },
    "language_info": {
      "name": "python"
    }
  },
  "cells": [
    {
      "cell_type": "markdown",
      "metadata": {
        "id": "view-in-github",
        "colab_type": "text"
      },
      "source": [
        "<a href=\"https://colab.research.google.com/github/beotavalo/ml-zoomcamp/blob/main/Homework_4_Evaluation_Metrics_for_Classification_.ipynb\" target=\"_parent\"><img src=\"https://colab.research.google.com/assets/colab-badge.svg\" alt=\"Open In Colab\"/></a>"
      ]
    },
    {
      "cell_type": "code",
      "execution_count": 6,
      "metadata": {
        "colab": {
          "base_uri": "https://localhost:8080/"
        },
        "id": "M5XQDucbWMm0",
        "outputId": "2e4f57db-3bca-4c8a-c673-68af17288f1a"
      },
      "outputs": [
        {
          "output_type": "stream",
          "name": "stdout",
          "text": [
            "--2024-10-22 22:32:10--  https://archive.ics.uci.edu/static/public/222/bank+marketing.zip\n",
            "Resolving archive.ics.uci.edu (archive.ics.uci.edu)... 128.195.10.252\n",
            "Connecting to archive.ics.uci.edu (archive.ics.uci.edu)|128.195.10.252|:443... connected.\n",
            "HTTP request sent, awaiting response... 200 OK\n",
            "Length: unspecified\n",
            "Saving to: ‘bank+marketing.zip.1’\n",
            "\n",
            "bank+marketing.zip.     [ <=>                ] 999.85K  5.93MB/s    in 0.2s    \n",
            "\n",
            "2024-10-22 22:32:11 (5.93 MB/s) - ‘bank+marketing.zip.1’ saved [1023843]\n",
            "\n",
            "Archive:  bank+marketing.zip\n",
            "replace bank.zip? [y]es, [n]o, [A]ll, [N]one, [r]ename: y\n",
            " extracting: bank.zip                \n",
            "replace bank-additional.zip? [y]es, [n]o, [A]ll, [N]one, [r]ename: y\n",
            " extracting: bank-additional.zip     \n",
            "Archive:  bank.zip\n",
            "replace bank-full.csv? [y]es, [n]o, [A]ll, [N]one, [r]ename: y\n",
            "  inflating: bank-full.csv           \n",
            "replace bank-names.txt? [y]es, [n]o, [A]ll, [N]one, [r]ename: y\n",
            "  inflating: bank-names.txt          \n",
            "replace bank.csv? [y]es, [n]o, [A]ll, [N]one, [r]ename: y\n",
            "  inflating: bank.csv                \n"
          ]
        }
      ],
      "source": [
        "!wget https://archive.ics.uci.edu/static/public/222/bank+marketing.zip\n",
        "!unzip bank+marketing.zip\n",
        "!unzip bank.zip"
      ]
    },
    {
      "cell_type": "code",
      "source": [
        "\n",
        "import pandas as pd\n",
        "\n",
        "# Define the column names\n",
        "column_names = [\n",
        "    'age',\n",
        "    'job',\n",
        "    'marital',\n",
        "    'education',\n",
        "    'balance',\n",
        "    'housing',\n",
        "    'contact',\n",
        "    'day',\n",
        "    'month',\n",
        "    'duration',\n",
        "    'campaign',\n",
        "    'pdays',\n",
        "    'previous',\n",
        "    'poutcome',\n",
        "    'y'\n",
        "]\n"
      ],
      "metadata": {
        "id": "nC10HVu4Wi8N"
      },
      "execution_count": 7,
      "outputs": []
    },
    {
      "cell_type": "code",
      "source": [
        "# Read the CSV file with specified columns\n",
        "df = pd.read_csv('bank-full.csv', sep=';', names=column_names, header=0)"
      ],
      "metadata": {
        "id": "U6o0GG3dW74l"
      },
      "execution_count": 8,
      "outputs": []
    },
    {
      "cell_type": "code",
      "source": [
        "df.info()"
      ],
      "metadata": {
        "colab": {
          "base_uri": "https://localhost:8080/"
        },
        "id": "dJkPdT6OW8w-",
        "outputId": "ff84e5d4-b7a0-4a37-d942-d6b1afbba8bc"
      },
      "execution_count": 9,
      "outputs": [
        {
          "output_type": "stream",
          "name": "stdout",
          "text": [
            "<class 'pandas.core.frame.DataFrame'>\n",
            "MultiIndex: 45211 entries, (58, 'management') to (37, 'entrepreneur')\n",
            "Data columns (total 15 columns):\n",
            " #   Column     Non-Null Count  Dtype \n",
            "---  ------     --------------  ----- \n",
            " 0   age        45211 non-null  object\n",
            " 1   job        45211 non-null  object\n",
            " 2   marital    45211 non-null  object\n",
            " 3   education  45211 non-null  int64 \n",
            " 4   balance    45211 non-null  object\n",
            " 5   housing    45211 non-null  object\n",
            " 6   contact    45211 non-null  object\n",
            " 7   day        45211 non-null  int64 \n",
            " 8   month      45211 non-null  object\n",
            " 9   duration   45211 non-null  int64 \n",
            " 10  campaign   45211 non-null  int64 \n",
            " 11  pdays      45211 non-null  int64 \n",
            " 12  previous   45211 non-null  int64 \n",
            " 13  poutcome   45211 non-null  object\n",
            " 14  y          45211 non-null  object\n",
            "dtypes: int64(6), object(9)\n",
            "memory usage: 5.3+ MB\n"
          ]
        }
      ]
    },
    {
      "cell_type": "code",
      "source": [
        "# Print some info or use the dataframe as needed\n",
        "df.tail()"
      ],
      "metadata": {
        "colab": {
          "base_uri": "https://localhost:8080/",
          "height": 226
        },
        "id": "d9K3_IplWzb1",
        "outputId": "6810c055-97c4-412f-8c14-e3ce85a55339"
      },
      "execution_count": 10,
      "outputs": [
        {
          "output_type": "execute_result",
          "data": {
            "text/plain": [
              "                      age        job marital  education balance housing  \\\n",
              "51 technician     married   tertiary      no        825      no      no   \n",
              "71 retired       divorced    primary      no       1729      no      no   \n",
              "72 retired        married  secondary      no       5715      no      no   \n",
              "57 blue-collar    married  secondary      no        668      no      no   \n",
              "37 entrepreneur   married  secondary      no       2971      no      no   \n",
              "\n",
              "                   contact  day month  duration  campaign  pdays  previous  \\\n",
              "51 technician     cellular   17   nov       977         3     -1         0   \n",
              "71 retired        cellular   17   nov       456         2     -1         0   \n",
              "72 retired        cellular   17   nov      1127         5    184         3   \n",
              "57 blue-collar   telephone   17   nov       508         4     -1         0   \n",
              "37 entrepreneur   cellular   17   nov       361         2    188        11   \n",
              "\n",
              "                poutcome    y  \n",
              "51 technician    unknown  yes  \n",
              "71 retired       unknown  yes  \n",
              "72 retired       success  yes  \n",
              "57 blue-collar   unknown   no  \n",
              "37 entrepreneur    other   no  "
            ],
            "text/html": [
              "\n",
              "  <div id=\"df-8432c6d3-7a9e-4d3e-bb17-7ff66fbd9c03\" class=\"colab-df-container\">\n",
              "    <div>\n",
              "<style scoped>\n",
              "    .dataframe tbody tr th:only-of-type {\n",
              "        vertical-align: middle;\n",
              "    }\n",
              "\n",
              "    .dataframe tbody tr th {\n",
              "        vertical-align: top;\n",
              "    }\n",
              "\n",
              "    .dataframe thead th {\n",
              "        text-align: right;\n",
              "    }\n",
              "</style>\n",
              "<table border=\"1\" class=\"dataframe\">\n",
              "  <thead>\n",
              "    <tr style=\"text-align: right;\">\n",
              "      <th></th>\n",
              "      <th></th>\n",
              "      <th>age</th>\n",
              "      <th>job</th>\n",
              "      <th>marital</th>\n",
              "      <th>education</th>\n",
              "      <th>balance</th>\n",
              "      <th>housing</th>\n",
              "      <th>contact</th>\n",
              "      <th>day</th>\n",
              "      <th>month</th>\n",
              "      <th>duration</th>\n",
              "      <th>campaign</th>\n",
              "      <th>pdays</th>\n",
              "      <th>previous</th>\n",
              "      <th>poutcome</th>\n",
              "      <th>y</th>\n",
              "    </tr>\n",
              "  </thead>\n",
              "  <tbody>\n",
              "    <tr>\n",
              "      <th>51</th>\n",
              "      <th>technician</th>\n",
              "      <td>married</td>\n",
              "      <td>tertiary</td>\n",
              "      <td>no</td>\n",
              "      <td>825</td>\n",
              "      <td>no</td>\n",
              "      <td>no</td>\n",
              "      <td>cellular</td>\n",
              "      <td>17</td>\n",
              "      <td>nov</td>\n",
              "      <td>977</td>\n",
              "      <td>3</td>\n",
              "      <td>-1</td>\n",
              "      <td>0</td>\n",
              "      <td>unknown</td>\n",
              "      <td>yes</td>\n",
              "    </tr>\n",
              "    <tr>\n",
              "      <th>71</th>\n",
              "      <th>retired</th>\n",
              "      <td>divorced</td>\n",
              "      <td>primary</td>\n",
              "      <td>no</td>\n",
              "      <td>1729</td>\n",
              "      <td>no</td>\n",
              "      <td>no</td>\n",
              "      <td>cellular</td>\n",
              "      <td>17</td>\n",
              "      <td>nov</td>\n",
              "      <td>456</td>\n",
              "      <td>2</td>\n",
              "      <td>-1</td>\n",
              "      <td>0</td>\n",
              "      <td>unknown</td>\n",
              "      <td>yes</td>\n",
              "    </tr>\n",
              "    <tr>\n",
              "      <th>72</th>\n",
              "      <th>retired</th>\n",
              "      <td>married</td>\n",
              "      <td>secondary</td>\n",
              "      <td>no</td>\n",
              "      <td>5715</td>\n",
              "      <td>no</td>\n",
              "      <td>no</td>\n",
              "      <td>cellular</td>\n",
              "      <td>17</td>\n",
              "      <td>nov</td>\n",
              "      <td>1127</td>\n",
              "      <td>5</td>\n",
              "      <td>184</td>\n",
              "      <td>3</td>\n",
              "      <td>success</td>\n",
              "      <td>yes</td>\n",
              "    </tr>\n",
              "    <tr>\n",
              "      <th>57</th>\n",
              "      <th>blue-collar</th>\n",
              "      <td>married</td>\n",
              "      <td>secondary</td>\n",
              "      <td>no</td>\n",
              "      <td>668</td>\n",
              "      <td>no</td>\n",
              "      <td>no</td>\n",
              "      <td>telephone</td>\n",
              "      <td>17</td>\n",
              "      <td>nov</td>\n",
              "      <td>508</td>\n",
              "      <td>4</td>\n",
              "      <td>-1</td>\n",
              "      <td>0</td>\n",
              "      <td>unknown</td>\n",
              "      <td>no</td>\n",
              "    </tr>\n",
              "    <tr>\n",
              "      <th>37</th>\n",
              "      <th>entrepreneur</th>\n",
              "      <td>married</td>\n",
              "      <td>secondary</td>\n",
              "      <td>no</td>\n",
              "      <td>2971</td>\n",
              "      <td>no</td>\n",
              "      <td>no</td>\n",
              "      <td>cellular</td>\n",
              "      <td>17</td>\n",
              "      <td>nov</td>\n",
              "      <td>361</td>\n",
              "      <td>2</td>\n",
              "      <td>188</td>\n",
              "      <td>11</td>\n",
              "      <td>other</td>\n",
              "      <td>no</td>\n",
              "    </tr>\n",
              "  </tbody>\n",
              "</table>\n",
              "</div>\n",
              "    <div class=\"colab-df-buttons\">\n",
              "\n",
              "  <div class=\"colab-df-container\">\n",
              "    <button class=\"colab-df-convert\" onclick=\"convertToInteractive('df-8432c6d3-7a9e-4d3e-bb17-7ff66fbd9c03')\"\n",
              "            title=\"Convert this dataframe to an interactive table.\"\n",
              "            style=\"display:none;\">\n",
              "\n",
              "  <svg xmlns=\"http://www.w3.org/2000/svg\" height=\"24px\" viewBox=\"0 -960 960 960\">\n",
              "    <path d=\"M120-120v-720h720v720H120Zm60-500h600v-160H180v160Zm220 220h160v-160H400v160Zm0 220h160v-160H400v160ZM180-400h160v-160H180v160Zm440 0h160v-160H620v160ZM180-180h160v-160H180v160Zm440 0h160v-160H620v160Z\"/>\n",
              "  </svg>\n",
              "    </button>\n",
              "\n",
              "  <style>\n",
              "    .colab-df-container {\n",
              "      display:flex;\n",
              "      gap: 12px;\n",
              "    }\n",
              "\n",
              "    .colab-df-convert {\n",
              "      background-color: #E8F0FE;\n",
              "      border: none;\n",
              "      border-radius: 50%;\n",
              "      cursor: pointer;\n",
              "      display: none;\n",
              "      fill: #1967D2;\n",
              "      height: 32px;\n",
              "      padding: 0 0 0 0;\n",
              "      width: 32px;\n",
              "    }\n",
              "\n",
              "    .colab-df-convert:hover {\n",
              "      background-color: #E2EBFA;\n",
              "      box-shadow: 0px 1px 2px rgba(60, 64, 67, 0.3), 0px 1px 3px 1px rgba(60, 64, 67, 0.15);\n",
              "      fill: #174EA6;\n",
              "    }\n",
              "\n",
              "    .colab-df-buttons div {\n",
              "      margin-bottom: 4px;\n",
              "    }\n",
              "\n",
              "    [theme=dark] .colab-df-convert {\n",
              "      background-color: #3B4455;\n",
              "      fill: #D2E3FC;\n",
              "    }\n",
              "\n",
              "    [theme=dark] .colab-df-convert:hover {\n",
              "      background-color: #434B5C;\n",
              "      box-shadow: 0px 1px 3px 1px rgba(0, 0, 0, 0.15);\n",
              "      filter: drop-shadow(0px 1px 2px rgba(0, 0, 0, 0.3));\n",
              "      fill: #FFFFFF;\n",
              "    }\n",
              "  </style>\n",
              "\n",
              "    <script>\n",
              "      const buttonEl =\n",
              "        document.querySelector('#df-8432c6d3-7a9e-4d3e-bb17-7ff66fbd9c03 button.colab-df-convert');\n",
              "      buttonEl.style.display =\n",
              "        google.colab.kernel.accessAllowed ? 'block' : 'none';\n",
              "\n",
              "      async function convertToInteractive(key) {\n",
              "        const element = document.querySelector('#df-8432c6d3-7a9e-4d3e-bb17-7ff66fbd9c03');\n",
              "        const dataTable =\n",
              "          await google.colab.kernel.invokeFunction('convertToInteractive',\n",
              "                                                    [key], {});\n",
              "        if (!dataTable) return;\n",
              "\n",
              "        const docLinkHtml = 'Like what you see? Visit the ' +\n",
              "          '<a target=\"_blank\" href=https://colab.research.google.com/notebooks/data_table.ipynb>data table notebook</a>'\n",
              "          + ' to learn more about interactive tables.';\n",
              "        element.innerHTML = '';\n",
              "        dataTable['output_type'] = 'display_data';\n",
              "        await google.colab.output.renderOutput(dataTable, element);\n",
              "        const docLink = document.createElement('div');\n",
              "        docLink.innerHTML = docLinkHtml;\n",
              "        element.appendChild(docLink);\n",
              "      }\n",
              "    </script>\n",
              "  </div>\n",
              "\n",
              "\n",
              "<div id=\"df-9b98116d-bba5-458e-84a5-446aaa0807e9\">\n",
              "  <button class=\"colab-df-quickchart\" onclick=\"quickchart('df-9b98116d-bba5-458e-84a5-446aaa0807e9')\"\n",
              "            title=\"Suggest charts\"\n",
              "            style=\"display:none;\">\n",
              "\n",
              "<svg xmlns=\"http://www.w3.org/2000/svg\" height=\"24px\"viewBox=\"0 0 24 24\"\n",
              "     width=\"24px\">\n",
              "    <g>\n",
              "        <path d=\"M19 3H5c-1.1 0-2 .9-2 2v14c0 1.1.9 2 2 2h14c1.1 0 2-.9 2-2V5c0-1.1-.9-2-2-2zM9 17H7v-7h2v7zm4 0h-2V7h2v10zm4 0h-2v-4h2v4z\"/>\n",
              "    </g>\n",
              "</svg>\n",
              "  </button>\n",
              "\n",
              "<style>\n",
              "  .colab-df-quickchart {\n",
              "      --bg-color: #E8F0FE;\n",
              "      --fill-color: #1967D2;\n",
              "      --hover-bg-color: #E2EBFA;\n",
              "      --hover-fill-color: #174EA6;\n",
              "      --disabled-fill-color: #AAA;\n",
              "      --disabled-bg-color: #DDD;\n",
              "  }\n",
              "\n",
              "  [theme=dark] .colab-df-quickchart {\n",
              "      --bg-color: #3B4455;\n",
              "      --fill-color: #D2E3FC;\n",
              "      --hover-bg-color: #434B5C;\n",
              "      --hover-fill-color: #FFFFFF;\n",
              "      --disabled-bg-color: #3B4455;\n",
              "      --disabled-fill-color: #666;\n",
              "  }\n",
              "\n",
              "  .colab-df-quickchart {\n",
              "    background-color: var(--bg-color);\n",
              "    border: none;\n",
              "    border-radius: 50%;\n",
              "    cursor: pointer;\n",
              "    display: none;\n",
              "    fill: var(--fill-color);\n",
              "    height: 32px;\n",
              "    padding: 0;\n",
              "    width: 32px;\n",
              "  }\n",
              "\n",
              "  .colab-df-quickchart:hover {\n",
              "    background-color: var(--hover-bg-color);\n",
              "    box-shadow: 0 1px 2px rgba(60, 64, 67, 0.3), 0 1px 3px 1px rgba(60, 64, 67, 0.15);\n",
              "    fill: var(--button-hover-fill-color);\n",
              "  }\n",
              "\n",
              "  .colab-df-quickchart-complete:disabled,\n",
              "  .colab-df-quickchart-complete:disabled:hover {\n",
              "    background-color: var(--disabled-bg-color);\n",
              "    fill: var(--disabled-fill-color);\n",
              "    box-shadow: none;\n",
              "  }\n",
              "\n",
              "  .colab-df-spinner {\n",
              "    border: 2px solid var(--fill-color);\n",
              "    border-color: transparent;\n",
              "    border-bottom-color: var(--fill-color);\n",
              "    animation:\n",
              "      spin 1s steps(1) infinite;\n",
              "  }\n",
              "\n",
              "  @keyframes spin {\n",
              "    0% {\n",
              "      border-color: transparent;\n",
              "      border-bottom-color: var(--fill-color);\n",
              "      border-left-color: var(--fill-color);\n",
              "    }\n",
              "    20% {\n",
              "      border-color: transparent;\n",
              "      border-left-color: var(--fill-color);\n",
              "      border-top-color: var(--fill-color);\n",
              "    }\n",
              "    30% {\n",
              "      border-color: transparent;\n",
              "      border-left-color: var(--fill-color);\n",
              "      border-top-color: var(--fill-color);\n",
              "      border-right-color: var(--fill-color);\n",
              "    }\n",
              "    40% {\n",
              "      border-color: transparent;\n",
              "      border-right-color: var(--fill-color);\n",
              "      border-top-color: var(--fill-color);\n",
              "    }\n",
              "    60% {\n",
              "      border-color: transparent;\n",
              "      border-right-color: var(--fill-color);\n",
              "    }\n",
              "    80% {\n",
              "      border-color: transparent;\n",
              "      border-right-color: var(--fill-color);\n",
              "      border-bottom-color: var(--fill-color);\n",
              "    }\n",
              "    90% {\n",
              "      border-color: transparent;\n",
              "      border-bottom-color: var(--fill-color);\n",
              "    }\n",
              "  }\n",
              "</style>\n",
              "\n",
              "  <script>\n",
              "    async function quickchart(key) {\n",
              "      const quickchartButtonEl =\n",
              "        document.querySelector('#' + key + ' button');\n",
              "      quickchartButtonEl.disabled = true;  // To prevent multiple clicks.\n",
              "      quickchartButtonEl.classList.add('colab-df-spinner');\n",
              "      try {\n",
              "        const charts = await google.colab.kernel.invokeFunction(\n",
              "            'suggestCharts', [key], {});\n",
              "      } catch (error) {\n",
              "        console.error('Error during call to suggestCharts:', error);\n",
              "      }\n",
              "      quickchartButtonEl.classList.remove('colab-df-spinner');\n",
              "      quickchartButtonEl.classList.add('colab-df-quickchart-complete');\n",
              "    }\n",
              "    (() => {\n",
              "      let quickchartButtonEl =\n",
              "        document.querySelector('#df-9b98116d-bba5-458e-84a5-446aaa0807e9 button');\n",
              "      quickchartButtonEl.style.display =\n",
              "        google.colab.kernel.accessAllowed ? 'block' : 'none';\n",
              "    })();\n",
              "  </script>\n",
              "</div>\n",
              "\n",
              "    </div>\n",
              "  </div>\n"
            ],
            "application/vnd.google.colaboratory.intrinsic+json": {
              "type": "dataframe",
              "summary": "{\n  \"name\": \"df\",\n  \"rows\": 5,\n  \"fields\": [\n    {\n      \"column\": \"age\",\n      \"properties\": {\n        \"dtype\": \"category\",\n        \"num_unique_values\": 2,\n        \"samples\": [\n          \"divorced\",\n          \"married\"\n        ],\n        \"semantic_type\": \"\",\n        \"description\": \"\"\n      }\n    },\n    {\n      \"column\": \"job\",\n      \"properties\": {\n        \"dtype\": \"string\",\n        \"num_unique_values\": 3,\n        \"samples\": [\n          \"tertiary\",\n          \"primary\"\n        ],\n        \"semantic_type\": \"\",\n        \"description\": \"\"\n      }\n    },\n    {\n      \"column\": \"marital\",\n      \"properties\": {\n        \"dtype\": \"category\",\n        \"num_unique_values\": 1,\n        \"samples\": [\n          \"no\"\n        ],\n        \"semantic_type\": \"\",\n        \"description\": \"\"\n      }\n    },\n    {\n      \"column\": \"education\",\n      \"properties\": {\n        \"dtype\": \"number\",\n        \"std\": 2076,\n        \"min\": 668,\n        \"max\": 5715,\n        \"num_unique_values\": 5,\n        \"samples\": [\n          1729\n        ],\n        \"semantic_type\": \"\",\n        \"description\": \"\"\n      }\n    },\n    {\n      \"column\": \"balance\",\n      \"properties\": {\n        \"dtype\": \"category\",\n        \"num_unique_values\": 1,\n        \"samples\": [\n          \"no\"\n        ],\n        \"semantic_type\": \"\",\n        \"description\": \"\"\n      }\n    },\n    {\n      \"column\": \"housing\",\n      \"properties\": {\n        \"dtype\": \"category\",\n        \"num_unique_values\": 1,\n        \"samples\": [\n          \"no\"\n        ],\n        \"semantic_type\": \"\",\n        \"description\": \"\"\n      }\n    },\n    {\n      \"column\": \"contact\",\n      \"properties\": {\n        \"dtype\": \"category\",\n        \"num_unique_values\": 2,\n        \"samples\": [\n          \"telephone\"\n        ],\n        \"semantic_type\": \"\",\n        \"description\": \"\"\n      }\n    },\n    {\n      \"column\": \"day\",\n      \"properties\": {\n        \"dtype\": \"number\",\n        \"std\": 0,\n        \"min\": 17,\n        \"max\": 17,\n        \"num_unique_values\": 1,\n        \"samples\": [\n          17\n        ],\n        \"semantic_type\": \"\",\n        \"description\": \"\"\n      }\n    },\n    {\n      \"column\": \"month\",\n      \"properties\": {\n        \"dtype\": \"category\",\n        \"num_unique_values\": 1,\n        \"samples\": [\n          \"nov\"\n        ],\n        \"semantic_type\": \"\",\n        \"description\": \"\"\n      }\n    },\n    {\n      \"column\": \"duration\",\n      \"properties\": {\n        \"dtype\": \"number\",\n        \"std\": 342,\n        \"min\": 361,\n        \"max\": 1127,\n        \"num_unique_values\": 5,\n        \"samples\": [\n          456\n        ],\n        \"semantic_type\": \"\",\n        \"description\": \"\"\n      }\n    },\n    {\n      \"column\": \"campaign\",\n      \"properties\": {\n        \"dtype\": \"number\",\n        \"std\": 1,\n        \"min\": 2,\n        \"max\": 5,\n        \"num_unique_values\": 4,\n        \"samples\": [\n          2\n        ],\n        \"semantic_type\": \"\",\n        \"description\": \"\"\n      }\n    },\n    {\n      \"column\": \"pdays\",\n      \"properties\": {\n        \"dtype\": \"number\",\n        \"std\": 102,\n        \"min\": -1,\n        \"max\": 188,\n        \"num_unique_values\": 3,\n        \"samples\": [\n          -1\n        ],\n        \"semantic_type\": \"\",\n        \"description\": \"\"\n      }\n    },\n    {\n      \"column\": \"previous\",\n      \"properties\": {\n        \"dtype\": \"number\",\n        \"std\": 4,\n        \"min\": 0,\n        \"max\": 11,\n        \"num_unique_values\": 3,\n        \"samples\": [\n          0\n        ],\n        \"semantic_type\": \"\",\n        \"description\": \"\"\n      }\n    },\n    {\n      \"column\": \"poutcome\",\n      \"properties\": {\n        \"dtype\": \"string\",\n        \"num_unique_values\": 3,\n        \"samples\": [\n          \"unknown\"\n        ],\n        \"semantic_type\": \"\",\n        \"description\": \"\"\n      }\n    },\n    {\n      \"column\": \"y\",\n      \"properties\": {\n        \"dtype\": \"category\",\n        \"num_unique_values\": 2,\n        \"samples\": [\n          \"no\"\n        ],\n        \"semantic_type\": \"\",\n        \"description\": \"\"\n      }\n    }\n  ]\n}"
            }
          },
          "metadata": {},
          "execution_count": 10
        }
      ]
    },
    {
      "cell_type": "code",
      "source": [
        "\"\"\"\n",
        "Split the data into 3 parts:\n",
        "train            60%\n",
        "validation       20%\n",
        "test             20%\n",
        "Use train_test_split function for that with random_state=1\n",
        "\n",
        "\"\"\"\n",
        "from sklearn.model_selection import train_test_split\n",
        "\n",
        "# Split data into train and test sets (80% train, 20% test)\n",
        "train_df, test_df = train_test_split(df, test_size=0.2, random_state=1)\n",
        "\n",
        "# Further split the train data into train and validation sets (75% train, 25% validation)\n",
        "train_df, val_df = train_test_split(train_df, test_size=0.25, random_state=1)\n",
        "\n",
        "# Print the shapes of the resulting datasets\n",
        "print(\"Train dataset shape:\", train_df.shape)\n",
        "print(\"Validation dataset shape:\", val_df.shape)\n",
        "print(\"Test dataset shape:\", test_df.shape)"
      ],
      "metadata": {
        "colab": {
          "base_uri": "https://localhost:8080/"
        },
        "id": "7qq1dhYtXM2f",
        "outputId": "10415100-1b12-4ce6-f1f6-b97c1b96d7a2"
      },
      "execution_count": 12,
      "outputs": [
        {
          "output_type": "stream",
          "name": "stdout",
          "text": [
            "Train dataset shape: (27126, 15)\n",
            "Validation dataset shape: (9042, 15)\n",
            "Test dataset shape: (9043, 15)\n"
          ]
        }
      ]
    },
    {
      "cell_type": "markdown",
      "source": [
        "Question 1: ROC AUC feature importance"
      ],
      "metadata": {
        "id": "K2nf-5wTXnC-"
      }
    },
    {
      "cell_type": "code",
      "source": [
        "# ROC AUC\n",
        "\n",
        "from sklearn.metrics import roc_auc_score\n",
        "\n",
        "df_train = train_df.copy()\n",
        "\n",
        "numerical_features = df_train.select_dtypes(include=['number']).columns.tolist()\n",
        "\n",
        "feature_importance = {}\n",
        "\n",
        "for feature in numerical_features:\n",
        "  if feature == 'y':\n",
        "    continue\n",
        "  auc = roc_auc_score(df_train['y'], df_train[feature])\n",
        "  if auc < 0.5:\n",
        "    auc = roc_auc_score(df_train['y'], -df_train[feature])\n",
        "    if auc >= 0.5:\n",
        "      feature_importance[feature] = auc\n",
        "      print(f\"Inverted {feature}, AUC: {auc}\")\n",
        "    else:\n",
        "      print(f\"Could not improve AUC for {feature}\")\n",
        "\n",
        "  else:\n",
        "    feature_importance[feature] = auc\n",
        "\n",
        "print(\"Feature Importance (AUC):\")\n",
        "for feature, auc in feature_importance.items():\n",
        "  print(f\"{feature}: {auc}\")"
      ],
      "metadata": {
        "colab": {
          "base_uri": "https://localhost:8080/"
        },
        "id": "85UMtlYMXkrm",
        "outputId": "0b5aeb33-39cd-4250-fd01-326d6f3d5b78"
      },
      "execution_count": 13,
      "outputs": [
        {
          "output_type": "stream",
          "name": "stdout",
          "text": [
            "Inverted day, AUC: 0.525957882383908\n",
            "Inverted campaign, AUC: 0.5714543015682159\n",
            "Feature Importance (AUC):\n",
            "education: 0.5888313805382317\n",
            "day: 0.525957882383908\n",
            "duration: 0.8147002759670778\n",
            "campaign: 0.5714543015682159\n",
            "pdays: 0.5901276247352144\n",
            "previous: 0.5985653242764153\n"
          ]
        }
      ]
    },
    {
      "cell_type": "markdown",
      "source": [
        "2. What's the AUC of this model on the validation dataset?"
      ],
      "metadata": {
        "id": "Kuf3zeRUY5AW"
      }
    },
    {
      "cell_type": "code",
      "source": [
        "import pandas as pd\n",
        "from sklearn.model_selection import train_test_split\n",
        "from sklearn.metrics import roc_auc_score\n",
        "from sklearn.feature_extraction import DictVectorizer\n",
        "from sklearn.linear_model import LogisticRegression\n",
        "\n",
        "# Prepare the data for one-hot encoding\n",
        "categorical_features = ['job', 'marital', 'education', 'housing', 'contact', 'month', 'poutcome']\n",
        "X_train = train_df.drop('y', axis=1)\n",
        "y_train = train_df['y']\n",
        "X_val = val_df.drop('y', axis=1)\n",
        "y_val = val_df['y']\n",
        "\n",
        "# Convert the data to dictionaries\n",
        "train_dicts = X_train[categorical_features].to_dict(orient='records')\n",
        "val_dicts = X_val[categorical_features].to_dict(orient='records')\n",
        "\n",
        "# Apply one-hot encoding using DictVectorizer\n",
        "dv = DictVectorizer(sparse=False)\n",
        "X_train_encoded = dv.fit_transform(train_dicts)\n",
        "X_val_encoded = dv.transform(val_dicts)\n",
        "\n",
        "# Train the logistic regression model\n",
        "model = LogisticRegression(solver='liblinear', C=1.0, max_iter=1000)\n",
        "model.fit(X_train_encoded, y_train)\n",
        "\n",
        "# Make predictions on the validation dataset\n",
        "y_pred_proba = model.predict_proba(X_val_encoded)[:, 1]\n",
        "\n",
        "# Calculate the AUC on the validation dataset\n",
        "auc = roc_auc_score(y_val, y_pred_proba)\n",
        "\n",
        "print(f\"AUC on validation dataset: {auc}\")"
      ],
      "metadata": {
        "colab": {
          "base_uri": "https://localhost:8080/"
        },
        "id": "v1820iAiY98C",
        "outputId": "a5fa1b72-1131-40d6-dd41-bef799d76496"
      },
      "execution_count": 19,
      "outputs": [
        {
          "output_type": "stream",
          "name": "stdout",
          "text": [
            "AUC on validation dataset: 0.754420056974413\n"
          ]
        }
      ]
    },
    {
      "cell_type": "markdown",
      "source": [
        "3. At which threshold precision and recall curves intersect?"
      ],
      "metadata": {
        "id": "3QJ3DSJSZdok"
      }
    },
    {
      "cell_type": "code",
      "source": [
        "from sklearn.metrics import precision_recall_curve\n",
        "import matplotlib.pyplot as plt\n",
        "\n",
        "y_val_numeric = y_val.map({'no': 0, 'yes': 1})\n",
        "\n",
        "# Calculate precision, recall, and thresholds using the numerical y_val\n",
        "precision, recall, thresholds = precision_recall_curve(y_val_numeric, y_pred_proba)\n",
        "\n",
        "plt.plot(thresholds, precision[:-1], label='Precision')\n",
        "plt.plot(thresholds, recall[:-1], label='Recall')\n",
        "plt.xlabel('Threshold')\n",
        "plt.ylabel('Score')\n",
        "plt.title('Precision and Recall vs Threshold')\n",
        "plt.legend()\n",
        "plt.grid(True)\n",
        "plt.show()\n",
        "\n",
        "# Find the threshold where precision and recall intersect\n",
        "closest_threshold = None\n",
        "min_diff = float('inf')\n",
        "\n",
        "for i in range(len(precision) - 1):\n",
        "  diff = abs(precision[i] - recall[i])\n",
        "  if diff < min_diff:\n",
        "    min_diff = diff\n",
        "    closest_threshold = thresholds[i]\n",
        "\n",
        "print(f\"Precision and Recall curves intersect at approximately threshold: {closest_threshold}\")"
      ],
      "metadata": {
        "colab": {
          "base_uri": "https://localhost:8080/",
          "height": 509
        },
        "id": "hllSRsnQZ8bA",
        "outputId": "9be81e7e-fcbd-4574-81d1-5ae309f6d3c5"
      },
      "execution_count": 22,
      "outputs": [
        {
          "output_type": "display_data",
          "data": {
            "text/plain": [
              "<Figure size 640x480 with 1 Axes>"
            ],
            "image/png": "[encoded data removed]"
          },
          "metadata": {}
        },
        {
          "output_type": "stream",
          "name": "stdout",
          "text": [
            "Precision and Recall curves intersect at approximately threshold: 0.16752092021880344\n"
          ]
        }
      ]
    },
    {
      "cell_type": "markdown",
      "source": [
        "4. At which threshold F1 is maximal?"
      ],
      "metadata": {
        "id": "t9OwtC-RbOC-"
      }
    },
    {
      "cell_type": "code",
      "source": [
        "# Calculate F1 score for different thresholds\n",
        "f1_scores = []\n",
        "thresholds = []\n",
        "for threshold in [i/100 for i in range(101)]:\n",
        "  y_pred = (y_pred_proba >= threshold).astype(int)\n",
        "\n",
        "  tp = ((y_val_numeric == 1) & (y_pred == 1)).sum()\n",
        "  fp = ((y_val_numeric == 0) & (y_pred == 1)).sum()\n",
        "  fn = ((y_val_numeric == 1) & (y_pred == 0)).sum()\n",
        "\n",
        "  if tp + fp == 0:\n",
        "    precision = 0\n",
        "  else:\n",
        "    precision = tp / (tp + fp)\n",
        "  if tp + fn == 0:\n",
        "    recall = 0\n",
        "  else:\n",
        "    recall = tp / (tp + fn)\n",
        "\n",
        "  if precision + recall == 0:\n",
        "    f1 = 0\n",
        "  else:\n",
        "    f1 = 2 * precision * recall / (precision + recall)\n",
        "\n",
        "  f1_scores.append(f1)\n",
        "  thresholds.append(threshold)\n",
        "\n",
        "# Find the threshold with maximal F1 score\n",
        "max_f1_score = max(f1_scores)\n",
        "max_f1_threshold = thresholds[f1_scores.index(max_f1_score)]\n",
        "\n",
        "print(f\"Maximal F1 score: {max_f1_score}\")\n",
        "print(f\"Threshold for maximal F1 score: {max_f1_threshold}\")"
      ],
      "metadata": {
        "colab": {
          "base_uri": "https://localhost:8080/"
        },
        "id": "eOpmVozCbRmi",
        "outputId": "92644504-469b-4250-d7ce-72c25647705a"
      },
      "execution_count": 24,
      "outputs": [
        {
          "output_type": "stream",
          "name": "stdout",
          "text": [
            "Maximal F1 score: 0.4208367514356029\n",
            "Threshold for maximal F1 score: 0.15\n"
          ]
        }
      ]
    },
    {
      "cell_type": "markdown",
      "source": [
        "5. How large is standard deviation of the scores across different folds?"
      ],
      "metadata": {
        "id": "zgFfPFhHbXCy"
      }
    },
    {
      "cell_type": "code",
      "source": [
        "# How large is standard deviation of the scores across different folds?\n",
        "import numpy as np\n",
        "from sklearn.model_selection import KFold\n",
        "\n",
        "df_full_train = pd.concat([train_df, val_df])\n",
        "\n",
        "# Prepare the data for one-hot encoding\n",
        "categorical_features = ['job', 'marital', 'education', 'housing', 'contact', 'month', 'poutcome']\n",
        "\n",
        "# Initialize KFold cross-validator\n",
        "kfold = KFold(n_splits=5, shuffle=True, random_state=1)\n",
        "\n",
        "# Create lists to store the AUC scores for each fold\n",
        "scores = []\n",
        "\n",
        "for train_idx, val_idx in kfold.split(df_full_train):\n",
        "    df_train = df_full_train.iloc[train_idx]\n",
        "    df_val = df_full_train.iloc[val_idx]\n",
        "\n",
        "    y_train = df_train['y']\n",
        "    y_val = df_val['y']\n",
        "\n",
        "    train_dicts = df_train[categorical_features].to_dict(orient='records')\n",
        "    val_dicts = df_val[categorical_features].to_dict(orient='records')\n",
        "\n",
        "    dv = DictVectorizer(sparse=False)\n",
        "    X_train = dv.fit_transform(train_dicts)\n",
        "    X_val = dv.transform(val_dicts)\n",
        "\n",
        "    model = LogisticRegression(solver='liblinear', C=1.0, max_iter=1000)\n",
        "    model.fit(X_train, y_train)\n",
        "\n",
        "    y_pred = model.predict_proba(X_val)[:, 1]\n",
        "    auc = roc_auc_score(y_val, y_pred)\n",
        "    scores.append(auc)\n",
        "\n",
        "std_deviation = np.std(scores)\n",
        "print(f\"Standard deviation of AUC scores: {std_deviation}\")"
      ],
      "metadata": {
        "colab": {
          "base_uri": "https://localhost:8080/"
        },
        "id": "Df7_I7vibtX-",
        "outputId": "3fda4873-9cea-452b-bc6c-d8b61f49bb8f"
      },
      "execution_count": 27,
      "outputs": [
        {
          "output_type": "stream",
          "name": "stdout",
          "text": [
            "Standard deviation of AUC scores: 0.008525272968185385\n"
          ]
        }
      ]
    },
    {
      "cell_type": "markdown",
      "source": [
        "6. Which C leads to the best mean score?"
      ],
      "metadata": {
        "id": "Yxfe1GGSbvPq"
      }
    },
    {
      "cell_type": "code",
      "source": [
        "# Which C leads to the best mean score?\n",
        "\n",
        "df_full_train = pd.concat([train_df, val_df])\n",
        "\n",
        "# Prepare the data for one-hot encoding\n",
        "categorical_features = ['job', 'marital', 'education', 'housing', 'contact', 'month', 'poutcome']\n",
        "\n",
        "# Initialize KFold cross-validator\n",
        "kfold = KFold(n_splits=5, shuffle=True, random_state=1)\n",
        "\n",
        "C_values = [0.000001, 0.001, 1]\n",
        "\n",
        "results = {}\n",
        "\n",
        "for C in C_values:\n",
        "    scores = []\n",
        "    for train_idx, val_idx in kfold.split(df_full_train):\n",
        "        df_train = df_full_train.iloc[train_idx]\n",
        "        df_val = df_full_train.iloc[val_idx]\n",
        "\n",
        "        y_train = df_train['y']\n",
        "        y_val = df_val['y']\n",
        "\n",
        "        train_dicts = df_train[categorical_features].to_dict(orient='records')\n",
        "        val_dicts = df_val[categorical_features].to_dict(orient='records')\n",
        "\n",
        "        dv = DictVectorizer(sparse=False)\n",
        "        X_train = dv.fit_transform(train_dicts)\n",
        "        X_val = dv.transform(val_dicts)\n",
        "\n",
        "        model = LogisticRegression(solver='liblinear', C=C, max_iter=1000)\n",
        "        model.fit(X_train, y_train)\n",
        "\n",
        "        y_pred = model.predict_proba(X_val)[:, 1]\n",
        "        auc = roc_auc_score(y_val, y_pred)\n",
        "        scores.append(auc)\n",
        "\n",
        "    mean_score = np.mean(scores)\n",
        "    std_score = np.std(scores)\n",
        "\n",
        "    results[C] = (round(mean_score, 3), round(std_score, 3))\n",
        "\n",
        "best_c = max(results, key=lambda k: results[k][0])\n",
        "print(f\"The best C value is: {best_c}\")"
      ],
      "metadata": {
        "colab": {
          "base_uri": "https://localhost:8080/"
        },
        "id": "EmFKnzOAb18L",
        "outputId": "2a189d65-a244-49e8-c91e-e26104f40eb2"
      },
      "execution_count": 29,
      "outputs": [
        {
          "output_type": "stream",
          "name": "stdout",
          "text": [
            "The best C value is: 1\n"
          ]
        }
      ]
    }
  ]
}